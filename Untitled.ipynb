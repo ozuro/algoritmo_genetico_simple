{
 "cells": [
  {
   "cell_type": "code",
   "execution_count": 44,
   "metadata": {},
   "outputs": [],
   "source": [
    "import random"
   ]
  },
  {
   "cell_type": "code",
   "execution_count": 45,
   "metadata": {},
   "outputs": [
    {
     "name": "stdout",
     "output_type": "stream",
     "text": [
      "modelo [0, 0, 0, 0, 0, 0, 0, 0, 1]\n"
     ]
    }
   ],
   "source": [
    "modelo = [0,0,0,0,0,0,0,0,1]# el valor mas minimo \n",
    "long_cromosoma = 9\n",
    "num_poblacion = 10\n",
    "prob_cruce = 3\n",
    "prob_mutacion = 0.2\n",
    "print(\"modelo\",modelo)\n"
   ]
  },
  {
   "cell_type": "code",
   "execution_count": 46,
   "metadata": {},
   "outputs": [
    {
     "name": "stdout",
     "output_type": "stream",
     "text": [
      "[0, 1, 1, 0, 0, 0, 1, 1, 0]\n"
     ]
    }
   ],
   "source": [
    "#creacion de un individuo\n",
    "def individuo (_min, _max):\n",
    "    return [random.randint(_min, _max) for i in range (long_cromosoma)]\n",
    "a = individuo(0,1)\n",
    "print (a)"
   ]
  },
  {
   "cell_type": "code",
   "execution_count": 47,
   "metadata": {},
   "outputs": [
    {
     "name": "stdout",
     "output_type": "stream",
     "text": [
      "[[1, 1, 0, 0, 1, 1, 0, 0, 0], [1, 1, 1, 0, 1, 0, 1, 1, 0], [0, 0, 0, 0, 0, 1, 0, 0, 0], [0, 0, 0, 1, 1, 0, 1, 1, 1], [0, 0, 1, 0, 1, 0, 0, 1, 1], [0, 0, 1, 1, 0, 0, 0, 0, 1], [0, 1, 1, 1, 0, 0, 1, 1, 0], [0, 0, 1, 1, 1, 0, 0, 1, 0], [1, 1, 0, 1, 0, 0, 0, 1, 1], [1, 1, 0, 0, 0, 0, 1, 1, 1]]\n"
     ]
    }
   ],
   "source": [
    "def genera_poblacion(num):\n",
    "    poblacion = []\n",
    "    for i in range (num):\n",
    "        poblacion.append( individuo(0,1) )\n",
    "    return poblacion\n",
    "#     return [individuo(0,1) for i in range(num_poblacion)]\n",
    "#print(genera_poblacion())\n",
    "poblacion = genera_poblacion(num_poblacion)\n",
    "print(poblacion)"
   ]
  },
  {
   "cell_type": "code",
   "execution_count": 48,
   "metadata": {},
   "outputs": [
    {
     "name": "stdout",
     "output_type": "stream",
     "text": [
      "4\n"
     ]
    }
   ],
   "source": [
    "def calcular_fitness(individuo):\n",
    "    aptitud=0\n",
    "    for i in range( len(individuo) ):\n",
    "        if individuo[i] == modelo [i]:\n",
    "            aptitud +=1\n",
    "    return aptitud\n",
    "print ( calcular_fitness(poblacion[0]) )"
   ]
  },
  {
   "cell_type": "code",
   "execution_count": 49,
   "metadata": {},
   "outputs": [],
   "source": [
    "def seleccion_cruce(sobresalientes):\n",
    "    seleccionados = [(calcular_fitness(i),i) for i in sobresalientes]\n",
    "    seleccionados = [i[1] for i in sorted(seleccionados)]\n",
    "    sobresalientes = seleccionados\n",
    "    \n",
    "    seleccion_final = seleccionados [len(seleccionados)-prob_cruce:]\n",
    "    #cruce\n",
    "    for i in range (len(sobresalientes)-prob_cruce):\n",
    "        pivote= random.randint(1, long_cromosoma -1)\n",
    "        padre = random.sample(seleccion_final, 2)\n",
    "        \n",
    "        sobresalientes[i][:pivote] = padre[0][:pivote]\n",
    "        sobresalientes[i][pivote:] = padre[1][pivote:]\n",
    "    return sobresalientes\n",
    "        \n",
    "        \n",
    "    "
   ]
  },
  {
   "cell_type": "code",
   "execution_count": 50,
   "metadata": {},
   "outputs": [],
   "source": [
    "def mutacion (sobresalientes):\n",
    "    for i in range(len(sobresalientes)):\n",
    "        #print (i)\n",
    "        if random.random() <= prob_mutacion:\n",
    "            pivote = random.randint(0,long_cromosoma-1)\n",
    "            nuevo_valor = random.randint(0,1)\n",
    "      \n",
    "            \n",
    "            sobresalientes[i][pivote] = nuevo_valor\n",
    "    return sobresalientes"
   ]
  },
  {
   "cell_type": "code",
   "execution_count": 51,
   "metadata": {
    "scrolled": false
   },
   "outputs": [
    {
     "name": "stdout",
     "output_type": "stream",
     "text": [
      "poblacion inicial: [[0, 1, 0, 0, 0, 0, 0, 0, 0], [0, 1, 0, 1, 0, 1, 0, 1, 0], [1, 0, 1, 1, 1, 0, 1, 0, 1], [0, 1, 1, 0, 0, 1, 1, 1, 1], [0, 0, 1, 1, 0, 0, 1, 0, 1], [1, 0, 1, 0, 0, 0, 1, 1, 1], [0, 0, 1, 0, 1, 0, 1, 0, 0], [0, 0, 1, 1, 1, 1, 1, 1, 0], [0, 1, 0, 1, 0, 0, 0, 0, 0], [1, 0, 0, 1, 0, 1, 1, 0, 0]]\n",
      "poblacion final:  [[0, 0, 0, 0, 0, 0, 0, 0, 1], [0, 0, 0, 0, 0, 0, 0, 0, 1], [0, 0, 0, 0, 0, 0, 0, 0, 1], [0, 0, 0, 0, 0, 0, 0, 0, 1], [0, 0, 0, 0, 0, 0, 0, 0, 1], [0, 0, 0, 0, 0, 0, 0, 0, 1], [0, 0, 0, 0, 0, 0, 0, 0, 1], [0, 0, 0, 0, 0, 0, 0, 0, 1], [0, 0, 0, 0, 0, 0, 0, 0, 1], [0, 0, 0, 0, 0, 0, 0, 0, 1]]\n",
      "\n",
      "\n",
      "\n"
     ]
    }
   ],
   "source": [
    "sobresalientes = genera_poblacion(num_poblacion)\n",
    "print(\"poblacion inicial:\",sobresalientes) \n",
    "\n",
    "#evolucion\n",
    "for i in range (100):\n",
    "    sobresalientes = seleccion_cruce(sobresalientes)\n",
    "    sobresalientes = mutacion(sobresalientes)\n",
    "\n",
    "print (\"poblacion final: \",(sobresalientes))\n",
    "print(\"\\n\\n\")\n",
    "    "
   ]
  },
  {
   "cell_type": "code",
   "execution_count": 53,
   "metadata": {},
   "outputs": [],
   "source": [
    "mo = [0, 0, 0, 0, 0, 0, 0, 0, 1]\n",
    "def bin_decimal(mo):\n",
    "    d1 = 2\n",
    "    d2 = 64\n",
    "    entero=0\n",
    "    decimal = 0\n",
    "    for i in range(len(mo)):\n",
    "        if(i<2):\n",
    "            entero=entero + mo[i]*d1\n",
    "            d1=d1/2\n",
    "        else:\n",
    "            decimal=decimal + mo[i]*d2\n",
    "            d2=d2/2\n",
    "            \n",
    "    return round(entero), round(decimal)"
   ]
  },
  {
   "cell_type": "code",
   "execution_count": 54,
   "metadata": {},
   "outputs": [
    {
     "name": "stdout",
     "output_type": "stream",
     "text": [
      "(0, 1)\n"
     ]
    }
   ],
   "source": [
    "print(bin_decimal(mo))"
   ]
  },
  {
   "cell_type": "code",
   "execution_count": null,
   "metadata": {},
   "outputs": [],
   "source": []
  },
  {
   "cell_type": "code",
   "execution_count": null,
   "metadata": {},
   "outputs": [],
   "source": []
  },
  {
   "cell_type": "code",
   "execution_count": null,
   "metadata": {},
   "outputs": [],
   "source": []
  }
 ],
 "metadata": {
  "kernelspec": {
   "display_name": "Python 3",
   "language": "python",
   "name": "python3"
  },
  "language_info": {
   "codemirror_mode": {
    "name": "ipython",
    "version": 3
   },
   "file_extension": ".py",
   "mimetype": "text/x-python",
   "name": "python",
   "nbconvert_exporter": "python",
   "pygments_lexer": "ipython3",
   "version": "3.7.3"
  }
 },
 "nbformat": 4,
 "nbformat_minor": 2
}
